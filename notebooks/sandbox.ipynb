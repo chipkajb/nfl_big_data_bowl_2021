{
 "cells": [
  {
   "cell_type": "code",
   "execution_count": 17,
   "metadata": {},
   "outputs": [],
   "source": [
    "# Load packages\n",
    "import pandas as pd\n",
    "import numpy as np\n",
    "import re\n",
    "from matplotlib import pyplot as plt\n",
    "import warnings\n",
    "warnings.simplefilter(action='ignore', category=FutureWarning)\n",
    "%matplotlib inline"
   ]
  },
  {
   "cell_type": "code",
   "execution_count": 18,
   "metadata": {},
   "outputs": [],
   "source": [
    "# get week dataframe\n",
    "def load_week_df(week):\n",
    "    df = pd.read_csv('../data/week{:.0f}.csv'.format(week))\n",
    "    return df\n",
    "\n",
    "week = 1\n",
    "week_df = load_week_df(week)"
   ]
  },
  {
   "cell_type": "code",
   "execution_count": 19,
   "metadata": {},
   "outputs": [],
   "source": [
    "# get play dataframe\n",
    "def get_play_df(week_df, play_id_list, play_idx):\n",
    "    play_sel = (week_df[\"playId\"] == play_id_list[play_idx]) # play selector\n",
    "    play_df = week_df[play_sel]\n",
    "    return play_df\n",
    "\n",
    "play_idx = 0\n",
    "play_id_list = np.unique(week_df[\"playId\"])\n",
    "play_df = get_play_df(week_df, play_id_list, play_idx)"
   ]
  },
  {
   "cell_type": "code",
   "execution_count": 20,
   "metadata": {},
   "outputs": [],
   "source": [
    "defense_positions = np.array(['CB','DB','DE','DL','FS','ILB','LB','MLB','NT','OLB','S','SS'])\n",
    "offense_positions = np.array(['FB','HB','QB','RB','TE','WR'])"
   ]
  },
  {
   "cell_type": "code",
   "execution_count": 21,
   "metadata": {},
   "outputs": [
    {
     "name": "stdout",
     "output_type": "stream",
     "text": [
      "Ted Ginn\n",
      "Carlton Davis\n"
     ]
    }
   ],
   "source": [
    "# get frame at which football arrives at receiver\n",
    "def get_pass_arrival_df(play_df):\n",
    "    r = re.compile('pass_outcome*') # get all events that start with 'pass_outcome'\n",
    "    vmatch = np.vectorize(lambda x:bool(r.match(x)))\n",
    "    sel = vmatch(play_df[\"event\"])\n",
    "    pass_arrival_df = play_df[sel]\n",
    "    return pass_arrival_df\n",
    "\n",
    "# find intended receiver and defender\n",
    "def get_intended_receiver_and_defender(play_df):\n",
    "    pass_arrival_df = get_pass_arrival_df(play_df)\n",
    "    football_df = pass_arrival_df[pass_arrival_df[\"displayName\"] == 'Football']\n",
    "    football_xy = football_df[[\"x\",\"y\"]].values\n",
    "    def_sel = pass_arrival_df[\"position\"].apply(lambda x : x in defense_positions)\n",
    "    off_sel = pass_arrival_df[\"position\"].apply(lambda x : x in offense_positions)\n",
    "    defense_df = pass_arrival_df[def_sel]\n",
    "    offense_df = pass_arrival_df[off_sel]\n",
    "    def_players_xy = defense_df[[\"x\",\"y\"]].values\n",
    "    off_players_xy = offense_df[[\"x\",\"y\"]].values\n",
    "    defender_idx = np.argmin(np.linalg.norm(def_players_xy - football_xy,axis=1))\n",
    "    defender_df = defense_df.iloc[defender_idx]\n",
    "    receiver_idx = np.argmin(np.linalg.norm(off_players_xy - football_xy,axis=1))\n",
    "    receiver_df = offense_df.iloc[receiver_idx]\n",
    "    return receiver_df[\"displayName\"], defender_df[\"displayName\"]\n",
    "\n",
    "receiver_name, defender_name = get_intended_receiver_and_defender(play_df)\n",
    "print(receiver_name)\n",
    "print(defender_name)"
   ]
  },
  {
   "cell_type": "code",
   "execution_count": 22,
   "metadata": {},
   "outputs": [],
   "source": [
    "# plot play\n",
    "def plot_play(play_df, offense_positions, defense_positions):\n",
    "    fig = plt.figure()\n",
    "    ax = plt.gca()\n",
    "    players = np.unique(play_df[\"displayName\"])\n",
    "    for player in players:\n",
    "        player_df = play_df[play_df[\"displayName\"] == player]\n",
    "        x = player_df[\"x\"]\n",
    "        y = player_df[\"y\"]\n",
    "        name = player_df[\"displayName\"].iloc[0]\n",
    "        position = player_df[\"position\"].iloc[0]\n",
    "        if name == 'Football': # ball (black)\n",
    "            ax.plot(x, y, color='k', linewidth=2)\n",
    "        elif player == receiver_name: # intended receiver (cyan)\n",
    "            ax.plot(x, y, color='c', linewidth=2)\n",
    "        elif player == defender_name: # defender (magenta)\n",
    "            ax.plot(x, y, color='m', linewidth=2)\n",
    "        elif position in defense_positions: # defense (red)\n",
    "            ax.plot(x, y, color='r', linewidth=2)\n",
    "        else: # offense (blue)\n",
    "            ax.plot(x, y, color='b', linewidth=2)\n",
    "    print(np.unique(play_df[\"event\"][play_df[\"event\"] != \"None\"])) # print events of play (not in chronological order)"
   ]
  },
  {
   "cell_type": "code",
   "execution_count": 23,
   "metadata": {},
   "outputs": [
    {
     "name": "stdout",
     "output_type": "stream",
     "text": [
      "['ball_snap' 'first_contact' 'out_of_bounds' 'pass_arrived' 'pass_forward'\n",
      " 'pass_outcome_caught']\n"
     ]
    },
    {
     "data": {
      "image/png": "[encoded data removed]",
      "text/plain": [
       "<Figure size 432x288 with 1 Axes>"
      ]
     },
     "metadata": {
      "needs_background": "light"
     },
     "output_type": "display_data"
    }
   ],
   "source": [
    "plot_play(play_df, offense_positions, defense_positions)"
   ]
  },
  {
   "cell_type": "code",
   "execution_count": null,
   "metadata": {},
   "outputs": [],
   "source": []
  }
 ],
 "metadata": {
  "kernelspec": {
   "display_name": "Python 3",
   "language": "python",
   "name": "python3"
  },
  "language_info": {
   "codemirror_mode": {
    "name": "ipython",
    "version": 3
   },
   "file_extension": ".py",
   "mimetype": "text/x-python",
   "name": "python",
   "nbconvert_exporter": "python",
   "pygments_lexer": "ipython3",
   "version": "3.7.4"
  }
 },
 "nbformat": 4,
 "nbformat_minor": 2
}
